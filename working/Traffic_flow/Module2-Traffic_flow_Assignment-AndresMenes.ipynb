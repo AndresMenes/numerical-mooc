{
 "cells": [
  {
   "cell_type": "code",
   "execution_count": 1,
   "metadata": {},
   "outputs": [],
   "source": [
    "import numpy as np\n",
    "import sympy\n",
    "from matplotlib import pyplot\n",
    "%matplotlib inline\n",
    "from sympy.utilities.lambdify import lambdify"
   ]
  },
  {
   "cell_type": "code",
   "execution_count": 2,
   "metadata": {},
   "outputs": [],
   "source": [
    "#Part A"
   ]
  },
  {
   "cell_type": "code",
   "execution_count": 3,
   "metadata": {},
   "outputs": [],
   "source": [
    "#Conditions \n",
    "Vmax = 80 #km/h\n",
    "L = 11 #km\n",
    "rhomax = 250 #cars/km\n",
    "nx = 51 #spatial discretization\n",
    "dt = 0.001 #h\n",
    "dx = L/(nx-1)\n"
   ]
  },
  {
   "cell_type": "code",
   "execution_count": 4,
   "metadata": {},
   "outputs": [],
   "source": [
    "x = np.linspace(0,L,nx)\n",
    "rho0 = np.ones(nx)*10\n",
    "rho0[10:20] = 50"
   ]
  },
  {
   "cell_type": "code",
   "execution_count": 5,
   "metadata": {},
   "outputs": [
    {
     "name": "stdout",
     "output_type": "stream",
     "text": [
      "Number of steps 100\n"
     ]
    }
   ],
   "source": [
    "T1 = 6/60.0\n",
    "nt = int(T1/dt)\n",
    "print('Number of steps',nt)"
   ]
  },
  {
   "cell_type": "code",
   "execution_count": 6,
   "metadata": {},
   "outputs": [],
   "source": [
    "v = np.ones(nx)\n",
    "\n",
    "for i in range(nx):\n",
    "\n",
    "    v[i] = Vmax*(1 - (rho0[i]/rhomax))\n"
   ]
  },
  {
   "cell_type": "code",
   "execution_count": 7,
   "metadata": {},
   "outputs": [
    {
     "name": "stdout",
     "output_type": "stream",
     "text": [
      "Minimum velocity at t=0 (m/s): 17.78\n"
     ]
    }
   ],
   "source": [
    "vminimum = np.min(v)\n",
    "vmin0 = vminimum/3.6\n",
    "vmin0\n",
    "print('Minimum velocity at t=0 (m/s): {:.2f}'.format(vmin0))"
   ]
  },
  {
   "cell_type": "code",
   "execution_count": 8,
   "metadata": {},
   "outputs": [
    {
     "name": "stdout",
     "output_type": "stream",
     "text": [
      "Average velocity at t=3 min (m/s): 20.62\n",
      "Minimum velocity at t=6 min (m/s): 18.74\n"
     ]
    }
   ],
   "source": [
    "rho = rho0.copy()\n",
    "v = np.ones(nx)\n",
    "F = np.ones(nx)\n",
    "for n in range(1,nt):\n",
    "    F[1:]=Vmax*rho[1:]*(1-rho[1:]/rhomax)\n",
    "    F[:-1]=Vmax*rho[:-1]*(1-rho[:-1]/rhomax)\n",
    "    rho[1:]=rho[1:]-dt/dx*(F[1:]-F[:-1])\n",
    "    v=F/rho\n",
    "    if n==50:\n",
    "        vmean3 = np.mean(v)\n",
    "        vms3 = vmean3/3.6\n",
    "        print('Average velocity at t=3 min (m/s): {:.2f}'.format(vms3))\n",
    "        \n",
    "vmin = np.min(v)\n",
    "vmsmin = vmin/3.6\n",
    "print('Minimum velocity at t=6 min (m/s): {:.2f}'.format(vmsmin))"
   ]
  },
  {
   "cell_type": "code",
   "execution_count": 9,
   "metadata": {},
   "outputs": [
    {
     "data": {
      "text/plain": [
       "18.744756132701628"
      ]
     },
     "execution_count": 9,
     "metadata": {},
     "output_type": "execute_result"
    }
   ],
   "source": [
    "vmsmin"
   ]
  },
  {
   "cell_type": "code",
   "execution_count": 10,
   "metadata": {},
   "outputs": [
    {
     "data": {
      "text/plain": [
       "<matplotlib.legend.Legend at 0x7fbbb5aa5390>"
      ]
     },
     "execution_count": 10,
     "metadata": {},
     "output_type": "execute_result"
    },
    {
     "data": {
      "image/png": "[encoded data removed]",
      "text/plain": [
       "<Figure size 432x288 with 1 Axes>"
      ]
     },
     "metadata": {
      "needs_background": "light"
     },
     "output_type": "display_data"
    }
   ],
   "source": [
    "# Plot the solution after nt time steps\n",
    "# along with the initial conditions.\n",
    "pyplot.figure(figsize=(6.0, 4.0))\n",
    "pyplot.xlabel('x')\n",
    "pyplot.ylabel('rho0,rho,v')\n",
    "pyplot.grid()\n",
    "pyplot.plot(x, rho0, label='Rho0',\n",
    "            color='C0', linestyle='-', linewidth=2)\n",
    "pyplot.plot(x, rho, label='Rho',\n",
    "            color='C1', linestyle='-', linewidth=2)\n",
    "pyplot.plot(x, v, label='v',\n",
    "            color='C2', linestyle='-', linewidth=2)\n",
    "pyplot.legend(loc='center right')\n"
   ]
  },
  {
   "cell_type": "code",
   "execution_count": 11,
   "metadata": {},
   "outputs": [
    {
     "data": {
      "text/plain": [
       "<matplotlib.legend.Legend at 0x7fbbb5a5cb70>"
      ]
     },
     "execution_count": 11,
     "metadata": {},
     "output_type": "execute_result"
    },
    {
     "data": {
      "image/png": "[encoded data removed]",
      "text/plain": [
       "<Figure size 432x288 with 1 Axes>"
      ]
     },
     "metadata": {
      "needs_background": "light"
     },
     "output_type": "display_data"
    }
   ],
   "source": [
    "pyplot.figure(figsize=(6.0, 4.0))\n",
    "pyplot.xlabel('x')\n",
    "pyplot.ylabel('F')\n",
    "pyplot.grid()\n",
    "pyplot.plot(x, F, label='Flux',\n",
    "            color='C3', linestyle='-', linewidth=2)\n",
    "pyplot.legend(loc='upper left')"
   ]
  },
  {
   "cell_type": "code",
   "execution_count": 12,
   "metadata": {},
   "outputs": [],
   "source": [
    "#Part B"
   ]
  },
  {
   "cell_type": "code",
   "execution_count": 13,
   "metadata": {},
   "outputs": [],
   "source": [
    "#Conditions \n",
    "Vmax = 136 #km/h\n",
    "L = 11 #km\n",
    "rhomax = 250 #cars/km\n",
    "nx = 51 #spatial discretization\n",
    "dt = 0.001 #h\n",
    "dx = L/(nx-1)\n"
   ]
  },
  {
   "cell_type": "code",
   "execution_count": 14,
   "metadata": {},
   "outputs": [],
   "source": [
    "x = np.linspace(0,L,nx)\n",
    "rho0 = np.ones(nx)*20\n",
    "rho0[10:20] = 50"
   ]
  },
  {
   "cell_type": "code",
   "execution_count": 15,
   "metadata": {},
   "outputs": [
    {
     "name": "stdout",
     "output_type": "stream",
     "text": [
      "Number of steps 50\n"
     ]
    }
   ],
   "source": [
    "T1 = 3/60.0\n",
    "T1\n",
    "nt = int(T1/dt)\n",
    "print('Number of steps',nt)"
   ]
  },
  {
   "cell_type": "code",
   "execution_count": 16,
   "metadata": {},
   "outputs": [],
   "source": [
    "v = np.ones(nx)\n",
    "\n",
    "for i in range(nx):\n",
    "\n",
    "    v[i] = Vmax*(1 - (rho0[i]/rhomax))"
   ]
  },
  {
   "cell_type": "code",
   "execution_count": 17,
   "metadata": {},
   "outputs": [
    {
     "name": "stdout",
     "output_type": "stream",
     "text": [
      "Minimum velocity at t=0 (m/s): 30.22\n"
     ]
    }
   ],
   "source": [
    "vminimum = np.min(v)\n",
    "vmin0 = vminimum/3.6\n",
    "vmin0\n",
    "print('Minimum velocity at t=0 (m/s): {:.2f}'.format(vmin0))"
   ]
  },
  {
   "cell_type": "code",
   "execution_count": 18,
   "metadata": {},
   "outputs": [
    {
     "name": "stdout",
     "output_type": "stream",
     "text": [
      "Average velocity at t=3 min (m/s): 33.88\n",
      "Minimum velocity at t=3 min (m/s): 30.83\n"
     ]
    }
   ],
   "source": [
    "rho = rho0.copy()\n",
    "v = np.ones(nx)\n",
    "F = np.ones(nx)\n",
    "for n in range(1,nt):\n",
    "    F[1:]=Vmax*rho[1:]*(1-rho[1:]/rhomax)\n",
    "    F[:-1]=Vmax*rho[:-1]*(1-rho[:-1]/rhomax)\n",
    "    rho[1:]=rho[1:]-dt/dx*(F[1:]-F[:-1])\n",
    "    v=F/rho\n",
    "\n",
    "vmean3 = np.mean(v)\n",
    "vms3 = vmean3/3.6\n",
    "print('Average velocity at t=3 min (m/s): {:.2f}'.format(vms3))\n",
    "\n",
    "vmin = np.min(v)\n",
    "vmsmin = vmin/3.6\n",
    "print('Minimum velocity at t=3 min (m/s): {:.2f}'.format(vmsmin))"
   ]
  },
  {
   "cell_type": "code",
   "execution_count": 19,
   "metadata": {},
   "outputs": [
    {
     "data": {
      "text/plain": [
       "<matplotlib.legend.Legend at 0x7fbbb59dcf28>"
      ]
     },
     "execution_count": 19,
     "metadata": {},
     "output_type": "execute_result"
    },
    {
     "data": {
      "image/png": "[encoded data removed]",
      "text/plain": [
       "<Figure size 432x288 with 1 Axes>"
      ]
     },
     "metadata": {
      "needs_background": "light"
     },
     "output_type": "display_data"
    }
   ],
   "source": [
    "# Plot the solution after nt time steps\n",
    "# along with the initial conditions.\n",
    "pyplot.figure(figsize=(6.0, 4.0))\n",
    "pyplot.xlabel('x')\n",
    "pyplot.ylabel('rho0,rho,v')\n",
    "pyplot.grid()\n",
    "pyplot.plot(x, rho0, label='Rho0',\n",
    "            color='C0', linestyle='-', linewidth=2)\n",
    "pyplot.plot(x, rho, label='Rho',\n",
    "            color='C1', linestyle='-', linewidth=2)\n",
    "pyplot.plot(x, v, label='v',\n",
    "            color='C2', linestyle='-', linewidth=2)\n",
    "pyplot.legend(loc='center right')"
   ]
  },
  {
   "cell_type": "code",
   "execution_count": 20,
   "metadata": {},
   "outputs": [
    {
     "data": {
      "text/plain": [
       "<matplotlib.legend.Legend at 0x7fbbb5956390>"
      ]
     },
     "execution_count": 20,
     "metadata": {},
     "output_type": "execute_result"
    },
    {
     "data": {
      "image/png": "[encoded data removed]",
      "text/plain": [
       "<Figure size 432x288 with 1 Axes>"
      ]
     },
     "metadata": {
      "needs_background": "light"
     },
     "output_type": "display_data"
    }
   ],
   "source": [
    "pyplot.figure(figsize=(6.0, 4.0))\n",
    "pyplot.xlabel('x')\n",
    "pyplot.ylabel('F')\n",
    "pyplot.grid()\n",
    "pyplot.plot(x, F, label='Flux',\n",
    "            color='C3', linestyle='-', linewidth=2)\n",
    "pyplot.legend(loc='upper left')"
   ]
  }
 ],
 "metadata": {
  "kernelspec": {
   "display_name": "Python 3",
   "language": "python",
   "name": "python3"
  },
  "language_info": {
   "codemirror_mode": {
    "name": "ipython",
    "version": 3
   },
   "file_extension": ".py",
   "mimetype": "text/x-python",
   "name": "python",
   "nbconvert_exporter": "python",
   "pygments_lexer": "ipython3",
   "version": "3.7.3"
  }
 },
 "nbformat": 4,
 "nbformat_minor": 2
}
